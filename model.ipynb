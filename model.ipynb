{
 "cells": [
  {
   "cell_type": "code",
   "execution_count": 19,
   "metadata": {},
   "outputs": [],
   "source": [
    "import math\n",
    "import random as rand\n",
    "import datetime as dt\n",
    "import numpy as np\n",
    "import pandas as pd\n",
    "from matplotlib import pyplot as plt\n",
    "from sklearn.model_selection import train_test_split\n",
    "from sklearn.linear_model import LinearRegression\n",
    "from sklearn.ensemble import RandomForestRegressor\n",
    "from sklearn.metrics import mean_squared_error\n",
    "from sklearn.preprocessing import LabelEncoder"
   ]
  },
  {
   "cell_type": "code",
   "execution_count": 21,
   "metadata": {},
   "outputs": [],
   "source": [
    "class RandomTrafficEvent:\n",
    "    def __init__(self, csv_file):\n",
    "        self.df = pd.read_csv(csv_file)\n",
    "    \n",
    "    def generate_event(self):\n",
    "        \"\"\"\n",
    "        Generates a random Type with its corresponding Location and High_Accuracy.\n",
    "\n",
    "        Returns:\n",
    "            dict: A dictionary containing the generated Type, Location, and High_Accuracy.\n",
    "        \"\"\"\n",
    "        # Select a random Type, Location, and High_Accuracy from the dataframe\n",
    "        Type = rand.choice(self.df['Type'])\n",
    "        Location = rand.choice(self.df['Location'])\n",
    "        High_Accuracy = rand.choice(self.df['High_Accuracy'])\n",
    "        \n",
    "        return {'Type': Type, 'Location': Location, 'High_Accuracy': High_Accuracy}"
   ]
  },
  {
   "cell_type": "code",
   "execution_count": 22,
   "metadata": {},
   "outputs": [
    {
     "data": {
      "text/plain": [
       "Date               0\n",
       "Time             122\n",
       "City             187\n",
       "Location          23\n",
       "Latitude           0\n",
       "Longitude          0\n",
       "High_Accuracy      0\n",
       "Direction        857\n",
       "Type              57\n",
       "Lanes_Blocked    687\n",
       "Involved         432\n",
       "Tweet              0\n",
       "Source             0\n",
       "dtype: int64"
      ]
     },
     "execution_count": 22,
     "metadata": {},
     "output_type": "execute_result"
    }
   ],
   "source": [
    "csv_file = 'data_mmda_traffic_spatial.csv'\n",
    "\n",
    "# Create an instance of the RandomTrafficEvent class\n",
    "random_traffic_event = RandomTrafficEvent(csv_file)\n",
    "\n",
    "# Access the df attribute\n",
    "df = random_traffic_event.df\n",
    "df.isnull().sum()\n",
    "\n",
    "# Create a new DataFrame with only the columns of interest\n"
   ]
  },
  {
   "cell_type": "code",
   "execution_count": 29,
   "metadata": {},
   "outputs": [],
   "source": [
    "X = df[['Type', 'Location']]\n",
    "# One-hot encode the 'Type' column\n",
    "# X_encoded = pd.get_dummies(X, columns=['Type'], dtype=str)\n",
    "enc = LabelEncoder()\n",
    "encoders = {}\n",
    "X_encoded = pd.DataFrame()\n",
    "\n",
    "for feature in X.columns:\n",
    "    encoders[feature] = LabelEncoder()\n",
    "    X_encoded[feature] = encoders[feature].fit_transform(X[feature])\n",
    "\n",
    "X_encoded.head()\n",
    "\n",
    "# Encode the target variable 'High_Accuracy'\n",
    "y_encoded = enc.fit_transform(df['High_Accuracy'])\n",
    "\n",
    "# Continue with the rest of the code\n",
    "X_train, X_test, y_train, y_test = train_test_split(X_encoded, y_encoded, test_size=0.2, random_state=42)\n",
    "\n",
    "# Create an instance of the Random Forest Classifier model\n",
    "model = RandomForestRegressor()\n",
    "\n",
    "# Fit the model to the training data\n",
    "model.fit(X_train.astype(str), y_train)\n",
    "\n",
    "# Make predictions on the testing data\n",
    "y_pred = model.predict(X_test.astype(str))\n",
    "\n",
    "# Evaluate the model's performance using mean squared error\n",
    "mse = mean_squared_error(y_test, y_pred)\n"
   ]
  },
  {
   "cell_type": "code",
   "execution_count": 31,
   "metadata": {},
   "outputs": [
    {
     "ename": "ValueError",
     "evalue": "y contains previously unseen labels: ['Accident' 'Road Closure']",
     "output_type": "error",
     "traceback": [
      "\u001b[1;31m---------------------------------------------------------------------------\u001b[0m",
      "\u001b[1;31mValueError\u001b[0m                                Traceback (most recent call last)",
      "Cell \u001b[1;32mIn[31], line 6\u001b[0m\n\u001b[0;32m      3\u001b[0m new_data_encoded \u001b[38;5;241m=\u001b[39m pd\u001b[38;5;241m.\u001b[39mDataFrame()\n\u001b[0;32m      5\u001b[0m \u001b[38;5;28;01mfor\u001b[39;00m feature \u001b[38;5;129;01min\u001b[39;00m new_data\u001b[38;5;241m.\u001b[39mcolumns:\n\u001b[1;32m----> 6\u001b[0m     new_data_encoded[feature] \u001b[38;5;241m=\u001b[39m \u001b[43mencoders\u001b[49m\u001b[43m[\u001b[49m\u001b[43mfeature\u001b[49m\u001b[43m]\u001b[49m\u001b[38;5;241;43m.\u001b[39;49m\u001b[43minverse_transform\u001b[49m\u001b[43m(\u001b[49m\u001b[43mnew_data\u001b[49m\u001b[43m[\u001b[49m\u001b[43mfeature\u001b[49m\u001b[43m]\u001b[49m\u001b[43m)\u001b[49m\n\u001b[0;32m      8\u001b[0m new_predictions \u001b[38;5;241m=\u001b[39m model\u001b[38;5;241m.\u001b[39mpredict(new_data_encoded\u001b[38;5;241m.\u001b[39mastype(\u001b[38;5;28mstr\u001b[39m))\n\u001b[0;32m      9\u001b[0m \u001b[38;5;28mprint\u001b[39m(\u001b[38;5;124m\"\u001b[39m\u001b[38;5;124mNew Data Predictions:\u001b[39m\u001b[38;5;124m\"\u001b[39m, new_predictions)\n",
      "File \u001b[1;32m~\\AppData\\Roaming\\Python\\Python310\\site-packages\\sklearn\\preprocessing\\_label.py:160\u001b[0m, in \u001b[0;36mLabelEncoder.inverse_transform\u001b[1;34m(self, y)\u001b[0m\n\u001b[0;32m    158\u001b[0m diff \u001b[38;5;241m=\u001b[39m np\u001b[38;5;241m.\u001b[39msetdiff1d(y, np\u001b[38;5;241m.\u001b[39marange(\u001b[38;5;28mlen\u001b[39m(\u001b[38;5;28mself\u001b[39m\u001b[38;5;241m.\u001b[39mclasses_)))\n\u001b[0;32m    159\u001b[0m \u001b[38;5;28;01mif\u001b[39;00m \u001b[38;5;28mlen\u001b[39m(diff):\n\u001b[1;32m--> 160\u001b[0m     \u001b[38;5;28;01mraise\u001b[39;00m \u001b[38;5;167;01mValueError\u001b[39;00m(\u001b[38;5;124m\"\u001b[39m\u001b[38;5;124my contains previously unseen labels: \u001b[39m\u001b[38;5;132;01m%s\u001b[39;00m\u001b[38;5;124m\"\u001b[39m \u001b[38;5;241m%\u001b[39m \u001b[38;5;28mstr\u001b[39m(diff))\n\u001b[0;32m    161\u001b[0m y \u001b[38;5;241m=\u001b[39m np\u001b[38;5;241m.\u001b[39masarray(y)\n\u001b[0;32m    162\u001b[0m \u001b[38;5;28;01mreturn\u001b[39;00m \u001b[38;5;28mself\u001b[39m\u001b[38;5;241m.\u001b[39mclasses_[y]\n",
      "\u001b[1;31mValueError\u001b[0m: y contains previously unseen labels: ['Accident' 'Road Closure']"
     ]
    }
   ],
   "source": [
    "# Make predictions on new data\n",
    "new_data = pd.DataFrame({'Type': ['Accident', 'Road Closure'], 'Location': ['Makati', 'Quezon City']})\n",
    "new_data_encoded = pd.DataFrame()\n",
    "\n",
    "for feature in new_data.columns:\n",
    "    new_data_encoded[feature] = encoders[feature].inverse_transform(new_data[feature])\n",
    "\n",
    "new_predictions = model.predict(new_data_encoded.astype(str))\n",
    "print(\"New Data Predictions:\", new_predictions)\n"
   ]
  }
 ],
 "metadata": {
  "kernelspec": {
   "display_name": "Python 3",
   "language": "python",
   "name": "python3"
  },
  "language_info": {
   "codemirror_mode": {
    "name": "ipython",
    "version": 3
   },
   "file_extension": ".py",
   "mimetype": "text/x-python",
   "name": "python",
   "nbconvert_exporter": "python",
   "pygments_lexer": "ipython3",
   "version": "3.10.9"
  }
 },
 "nbformat": 4,
 "nbformat_minor": 2
}
